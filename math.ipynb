###Inline and Block Latex

 $x=y$
 
 Block Formula: $$x=y$$"
      
my math expression is \(x^2\)
